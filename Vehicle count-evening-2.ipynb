{
 "cells": [
  {
   "cell_type": "code",
   "execution_count": 1,
   "metadata": {},
   "outputs": [],
   "source": [
    "import cv2\n",
    "import numpy as np"
   ]
  },
  {
   "cell_type": "code",
   "execution_count": 2,
   "metadata": {},
   "outputs": [],
   "source": [
    "cap = cv2.VideoCapture('Night Time Traffic Camera video.mp4') \n",
    "vehicle =0\n",
    "matches =[]\n",
    "\n",
    "def get_center(x, y, w, h):\n",
    "    x1 = int(w / 2)\n",
    "    y1 = int(h / 2)\n",
    "\n",
    "    cx = x + x1\n",
    "    cy = y + y1\n",
    "    return cx,cy\n",
    "\n",
    "object_detector = cv2.createBackgroundSubtractorMOG2(history= 100, varThreshold=200)"
   ]
  },
  {
   "cell_type": "code",
   "execution_count": 3,
   "metadata": {
    "scrolled": true
   },
   "outputs": [],
   "source": [
    "while True:\n",
    "    ret, frame = cap.read()\n",
    "     \n",
    "        \n",
    "    height, width, _ = frame.shape\n",
    "\n",
    "\n",
    "    roi= frame[100: , 500: ]\n",
    "\n",
    "    mask = object_detector.apply(roi)\n",
    "    _, mask= cv2.threshold(mask, 253.5, 254.5, cv2.THRESH_BINARY)\n",
    "    kernel = np.ones((5,5), np.uint8)\n",
    "\n",
    "    img_dilation = cv2.dilate(mask, kernel, iterations=1)\n",
    "    img_erosion = cv2.erode(img_dilation, kernel, iterations=1)\n",
    "    img_erosion = cv2.medianBlur(img_erosion, 7)\n",
    "\n",
    "    contours , _ = cv2.findContours(img_erosion, cv2.RETR_TREE, cv2.CHAIN_APPROX_SIMPLE)\n",
    "    detections= []\n",
    "\n",
    "    cv2.line (roi, (0, 300), (1000, 300), (255,127,0), 3)\n",
    "    for (i, c) in enumerate (contours):\n",
    "        (x, y, w, h) = cv2.boundingRect (c)\n",
    "        validate_outline = (w >= 70) and (h >= 60)\n",
    "        if not validate_outline:\n",
    "            continue\n",
    "\n",
    "        cv2.rectangle (roi, (x, y), (x + w, y + h), (0,255,0), 2)\n",
    "        center = get_center (x, y, w, h)\n",
    "        detections.append (center)\n",
    "        cv2.circle (roi, center, 4, (0, 0,255), -1)\n",
    "\n",
    "        for (x, y) in detections:\n",
    "            if y <(300 + 6) and y> (300-6):\n",
    "                vehicle += 1\n",
    "                cv2.line (roi, (0, 300), (1000, 300), (0,127,255), 3)\n",
    "                detections.remove ((x, y))\n",
    "                print (\"vehicle is detected:\" + str (vehicle))\n",
    "\n",
    "\n",
    "    cv2.putText (roi, \"VEHICLE COUNT:\" + str (vehicle), (450, 70), cv2.FONT_HERSHEY_SIMPLEX, 1, (0, 0, 255), 5)\n",
    "    cv2.imshow('roi', roi)\n",
    "\n",
    "\n",
    "    key = cv2.waitKey(30)\n",
    "    if key == 27:\n",
    "        break\n",
    "\n",
    "   "
   ]
  },
  {
   "cell_type": "code",
   "execution_count": 4,
   "metadata": {},
   "outputs": [],
   "source": [
    "cap.release()\n",
    "cv2.destroyAllWindows()"
   ]
  },
  {
   "cell_type": "code",
   "execution_count": null,
   "metadata": {},
   "outputs": [],
   "source": []
  },
  {
   "cell_type": "code",
   "execution_count": null,
   "metadata": {},
   "outputs": [],
   "source": []
  }
 ],
 "metadata": {
  "kernelspec": {
   "display_name": "Python 3",
   "language": "python",
   "name": "python3"
  },
  "language_info": {
   "codemirror_mode": {
    "name": "ipython",
    "version": 3
   },
   "file_extension": ".py",
   "mimetype": "text/x-python",
   "name": "python",
   "nbconvert_exporter": "python",
   "pygments_lexer": "ipython3",
   "version": "3.8.5"
  }
 },
 "nbformat": 4,
 "nbformat_minor": 4
}
